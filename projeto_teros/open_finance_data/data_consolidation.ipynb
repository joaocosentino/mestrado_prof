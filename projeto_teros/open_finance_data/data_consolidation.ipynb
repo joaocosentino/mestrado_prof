{
 "cells": [
  {
   "cell_type": "markdown",
   "metadata": {},
   "source": [
    "# Análise da Estrutuda de Dados dos Produtos Open Finance"
   ]
  },
  {
   "cell_type": "markdown",
   "metadata": {},
   "source": [
    "### Fontes:\n",
    "\n"
   ]
  },
  {
   "cell_type": "code",
   "execution_count": 19,
   "metadata": {},
   "outputs": [],
   "source": [
    "import pandas as pd\n",
    "from plotly import graph_objects as go\n",
    "from plotly.subplots import make_subplots\n",
    "import matplotlib.pyplot as plt\n",
    "import os\n",
    "import json"
   ]
  },
  {
   "cell_type": "markdown",
   "metadata": {},
   "source": [
    "## API de Cartões de Crédito"
   ]
  },
  {
   "cell_type": "markdown",
   "metadata": {},
   "source": [
    "1. **Consolidação do Metadados**\n",
    "2. **API dos Produtos de Crédito**\n",
    "3. **Análise Exploratória dos Dados**\n",
    "4. **Identificação & Merge de DataFrames**\n",
    "5. **Conclusões**"
   ]
  },
  {
   "cell_type": "markdown",
   "metadata": {},
   "source": [
    "## 1. Consolidação do Metadados"
   ]
  },
  {
   "cell_type": "code",
   "execution_count": 3,
   "metadata": {},
   "outputs": [],
   "source": [
    "API = ['cartao_credito','dados_de_conta','informaçoes_gerais','investimentos','operacoes_de_credito']\n",
    "MAIN_DIR = f\"estrutura_APIs/\"\n",
    "columns_to_drop = ['self','first','prev','next','last','totalRecords','totalPages','requestDateTime']\n"
   ]
  },
  {
   "cell_type": "code",
   "execution_count": 4,
   "metadata": {},
   "outputs": [],
   "source": [
    "def get_csv_filenames(apis):\n",
    "    csv_files = []\n",
    "    for filename in os.listdir(f'{MAIN_DIR}/{apis}/'):\n",
    "        if filename.endswith('.csv'):\n",
    "            csv_files.append(filename[:-4]) # removendo .csv\n",
    "\n",
    "    return csv_files\n",
    "\n",
    "file_names = list(map(get_csv_filenames,API))"
   ]
  },
  {
   "cell_type": "code",
   "execution_count": 5,
   "metadata": {},
   "outputs": [
    {
     "name": "stdout",
     "output_type": "stream",
     "text": [
      "['transaçoes_current', 'creditcard_lists', 'transaçoes_fatura', 'transaçoes', 'creditcard_fatura', 'creditcard_limite', 'creditcard_account_id']\n",
      "['account_list', 'account_balance', 'account_transactions_current', 'account_limit', 'account_transactions', 'account_id']\n",
      "['pj_id', 'pj_evaluation', 'pj_financial_relation']\n",
      "['fixed_balance', 'fund_transactions', 'fixed_credit_id', 'fund_investiments', 'variable_income_list', 'variable_income_id', 'variable_income_transactions', 'fixed_transactions', 'fixed_credit_transactions', 'broker_notes', 'fund_balance', 'treasure_title_list', 'credit_fixed_balance', 'variable_income_balance', 'treasure_title_transactions', 'fixed_investiments', 'treasure_titles_balance', 'credit_fixed_investments', 'fund_id', 'treasure_title_id', 'fixed_id']\n",
      "['pagamentos_direito_creditorio', 'contratos_emprestimos', 'direitos_creditorios', 'pagamentos_emprestimos', 'adiantamento_parcelas', 'contratos_adiantamento', 'parcelas_emprestimos', 'emprestimos_garantias', 'financiamentos', 'garantias_financiamentos', 'direitos_creditorios_id', 'parcelas_financiamento', 'pagamentos_financiamentos', 'emprestimos', 'garantias_direito_creditorio', 'parecelas_direitos_creditorios', 'garantias_adiantamento', 'adiantamento_pagamentos', 'adiantamentos_id', 'contratos_financiamentos']\n"
     ]
    }
   ],
   "source": [
    "for file in file_names:\n",
    "    print(file)"
   ]
  },
  {
   "cell_type": "code",
   "execution_count": 8,
   "metadata": {},
   "outputs": [],
   "source": [
    "def data_prep(api,filename):\n",
    "    # dfs = lambda file: pd.read_csv(f'{MAIN_DIR}{api}/{file}.csv',encoding='latin1')\n",
    "    df_dict = {}\n",
    "    for files in filename:\n",
    "        df = pd.read_csv(f'{MAIN_DIR}{api}/{files}.csv',encoding='latin1')\n",
    "        if len(df)<=2:\n",
    "            try:\n",
    "                df = pd.read_csv(f'{MAIN_DIR}{api}/{files}.csv',encoding='utf-8')\n",
    "            except Exception as e:\n",
    "                df = pd.read_csv(f'{MAIN_DIR}{api}/{files}.csv',encoding='latin1')\n",
    "            df = df.drop(columns=[col for col in df.columns if \"Unnamed\" in col])\n",
    "            df_dict[files] = df\n",
    "        else:\n",
    "            headers = list(df.iloc[0].dropna())\n",
    "            headers2 = list(df.iloc[1].dropna())\n",
    "            headers = list(headers+headers2)\n",
    "            print(files)\n",
    "            try:\n",
    "                df = pd.read_csv(f'{MAIN_DIR}{api}/{files}.csv',header=0,skiprows=1,encoding='utf-8')\n",
    "                #df = pd.read_csv(f'{MAIN_DIR}{api}/{files}.csv', header=0, skiprows=2, usecols=range(len(headers)), names=headers, encoding='latin1')\n",
    "            except Exception as e:\n",
    "                df = pd.read_csv(f'{MAIN_DIR}{api}/{files}.csv',header=0,skiprows=1,encoding='latin1')\n",
    "                df\n",
    "                #df = pd.read_csv(f'{MAIN_DIR}{api}/{files}.csv', header=0, skiprows=2, usecols=range(len(headers)), names=headers, encoding='utf-8')\n",
    "            df.drop(columns=[col for col in df.columns if \"Unnamed\" in col],inplace=True)\n",
    "            df_dict[files] = df\n",
    "\n",
    "    return df_dict"
   ]
  },
  {
   "cell_type": "code",
   "execution_count": 172,
   "metadata": {},
   "outputs": [
    {
     "data": {
      "text/html": [
       "<div>\n",
       "<style scoped>\n",
       "    .dataframe tbody tr th:only-of-type {\n",
       "        vertical-align: middle;\n",
       "    }\n",
       "\n",
       "    .dataframe tbody tr th {\n",
       "        vertical-align: top;\n",
       "    }\n",
       "\n",
       "    .dataframe thead th {\n",
       "        text-align: right;\n",
       "    }\n",
       "</style>\n",
       "<table border=\"1\" class=\"dataframe\">\n",
       "  <thead>\n",
       "    <tr style=\"text-align: right;\">\n",
       "      <th></th>\n",
       "      <th>amount</th>\n",
       "      <th>currency</th>\n",
       "      <th>amount.1</th>\n",
       "      <th>currency.1</th>\n",
       "      <th>type</th>\n",
       "      <th>additionalInfo</th>\n",
       "      <th>amount.2</th>\n",
       "      <th>currency.2</th>\n",
       "      <th>valueType</th>\n",
       "      <th>paymentDate</th>\n",
       "      <th>paymentMode</th>\n",
       "      <th>amount.3</th>\n",
       "      <th>currency.3</th>\n",
       "    </tr>\n",
       "  </thead>\n",
       "  <tbody>\n",
       "    <tr>\n",
       "      <th>0</th>\n",
       "      <td>1000.04</td>\n",
       "      <td>BRL</td>\n",
       "      <td>1000.04</td>\n",
       "      <td>BRL</td>\n",
       "      <td>JUROS_REMUNERATORIOS_ATRASO_PAGAMENTO_FATURA</td>\n",
       "      <td>InformaÃ§Ãµes Adicionais</td>\n",
       "      <td>100000.04</td>\n",
       "      <td>BRL</td>\n",
       "      <td>VALOR_PAGAMENTO_FATURA_PARCELADO</td>\n",
       "      <td>2021-05-21</td>\n",
       "      <td>DEBITO_CONTA_CORRENTE</td>\n",
       "      <td>1000.04</td>\n",
       "      <td>BRL</td>\n",
       "    </tr>\n",
       "  </tbody>\n",
       "</table>\n",
       "</div>"
      ],
      "text/plain": [
       "    amount currency  amount.1 currency.1  \\\n",
       "0  1000.04      BRL   1000.04        BRL   \n",
       "\n",
       "                                           type            additionalInfo  \\\n",
       "0  JUROS_REMUNERATORIOS_ATRASO_PAGAMENTO_FATURA  InformaÃ§Ãµes Adicionais   \n",
       "\n",
       "    amount.2 currency.2                         valueType paymentDate  \\\n",
       "0  100000.04        BRL  VALOR_PAGAMENTO_FATURA_PARCELADO  2021-05-21   \n",
       "\n",
       "             paymentMode  amount.3 currency.3  \n",
       "0  DEBITO_CONTA_CORRENTE   1000.04        BRL  "
      ]
     },
     "execution_count": 172,
     "metadata": {},
     "output_type": "execute_result"
    }
   ],
   "source": [
    "custom_headers = pd.read_csv(f'{MAIN_DIR}{API[0]}/{file_names[0][4]}.csv', skiprows=2, encoding='latin1')\n",
    "custom_headers.drop(columns=[col for col in custom_headers.columns if \"Unnamed\" in col],inplace=True)\n",
    "\n",
    "# Combine the header names from both rows into a single list\n",
    "# headers = list(custom_headers.iloc[0].dropna())\n",
    "# headers2 = list(custom_headers.iloc[1].dropna())\n",
    "# headers = headers+headers2\n",
    "\n",
    "# Read the CSV file again, this time using the combined column names as headers\n",
    "#df = pd.read_csv(f'{MAIN_DIR}{API[0]}/{file_names[0][-1]}.csv', header=0, names=headers,skiprows=2, encoding='latin1')\n",
    "#df = pd.read_csv(f'{MAIN_DIR}{API[0]}/{file_names[0][4]}.csv', header=0, skiprows=2, usecols=range(len(headers)), names=headers, encoding='latin1')\n",
    "custom_headers"
   ]
  },
  {
   "cell_type": "code",
   "execution_count": null,
   "metadata": {},
   "outputs": [],
   "source": [
    "def read_json(json_path):\n",
    "    with open (json_path,'r') as bill_json:\n",
    "        billid = json.load(bill_json)\n",
    "    df = pd.json_normalize(billid,record_path=['data'])\n",
    "\n",
    "    df2 = pd.json_normalize(billid,record_path=['data',['financeCharges'][0]])\n",
    "    df2.rename(columns={'type':'financeCharges.type',\n",
    "                   'additionalInfo':'financeCharges.Info',\n",
    "                   'amount':'financeCharges.amount',\n",
    "                   'currency':'financeCharges.currency'},inplace=True)\n",
    "\n",
    "    df3 = pd.json_normalize(billid,record_path=['data',['payments'][0]])\n",
    "    df3.rename(columns={'valueType':'payments.type',\n",
    "                   'paymentDate':'payments.paymentDate',\n",
    "                   'paymentMode':'payments.paymentMode',\n",
    "                   'amount':'payments.amount',\n",
    "                   'currency':'payments.currency'},inplace=True)\n",
    "    return pd.concat([df,df2,df3],axis=1)"
   ]
  },
  {
   "cell_type": "code",
   "execution_count": 111,
   "metadata": {},
   "outputs": [],
   "source": [
    "def df_dicts(produtos,file_names)-> pd.DataFrame:\n",
    "    return list(map(data_prep,produtos,file_names))\n"
   ]
  },
  {
   "cell_type": "code",
   "execution_count": null,
   "metadata": {},
   "outputs": [],
   "source": [
    "def clean(df) -> pd.DataFrame:\n",
    "\n",
    "    return df"
   ]
  },
  {
   "cell_type": "code",
   "execution_count": 160,
   "metadata": {},
   "outputs": [
    {
     "data": {
      "text/html": [
       "<div>\n",
       "<style scoped>\n",
       "    .dataframe tbody tr th:only-of-type {\n",
       "        vertical-align: middle;\n",
       "    }\n",
       "\n",
       "    .dataframe tbody tr th {\n",
       "        vertical-align: top;\n",
       "    }\n",
       "\n",
       "    .dataframe thead th {\n",
       "        text-align: right;\n",
       "    }\n",
       "</style>\n",
       "<table border=\"1\" class=\"dataframe\">\n",
       "  <thead>\n",
       "    <tr style=\"text-align: right;\">\n",
       "      <th></th>\n",
       "      <th>transactionId</th>\n",
       "      <th>identificationNumber</th>\n",
       "      <th>transactionName</th>\n",
       "      <th>billId</th>\n",
       "      <th>creditDebitType</th>\n",
       "      <th>transactionType</th>\n",
       "      <th>transactionalAdditionalInfo</th>\n",
       "      <th>paymentType</th>\n",
       "      <th>feeType</th>\n",
       "      <th>feeTypeAdditionalInfo</th>\n",
       "      <th>otherCreditsType</th>\n",
       "      <th>otherCreditsAdditionalInfo</th>\n",
       "      <th>chargeIdentificator</th>\n",
       "      <th>chargeNumber</th>\n",
       "      <th>brazilianAmount</th>\n",
       "      <th>amount</th>\n",
       "      <th>transactionDateTime</th>\n",
       "      <th>billPostDate</th>\n",
       "      <th>payeeMCC</th>\n",
       "    </tr>\n",
       "  </thead>\n",
       "  <tbody>\n",
       "    <tr>\n",
       "      <th>0</th>\n",
       "      <td>NaN</td>\n",
       "      <td>NaN</td>\n",
       "      <td>NaN</td>\n",
       "      <td>NaN</td>\n",
       "      <td>NaN</td>\n",
       "      <td>NaN</td>\n",
       "      <td>NaN</td>\n",
       "      <td>NaN</td>\n",
       "      <td>NaN</td>\n",
       "      <td>NaN</td>\n",
       "      <td>NaN</td>\n",
       "      <td>NaN</td>\n",
       "      <td>NaN</td>\n",
       "      <td>NaN</td>\n",
       "      <td>amount</td>\n",
       "      <td>amount</td>\n",
       "      <td>NaN</td>\n",
       "      <td>NaN</td>\n",
       "      <td>NaN</td>\n",
       "    </tr>\n",
       "    <tr>\n",
       "      <th>1</th>\n",
       "      <td>TXpRMU9UQTROMWhZV2xSU1FUazJSMDl</td>\n",
       "      <td>4453.0</td>\n",
       "      <td>PGTO</td>\n",
       "      <td>MTU0OTU1NjI2NTk4OTRmc2ZhZDRmc2Q1NmZkM</td>\n",
       "      <td>DEBITO</td>\n",
       "      <td>CASHBACK</td>\n",
       "      <td>qlTN&lt;8h;`DWZ,*=&lt;Stq(eslZ!{$5FX|\\JOzb@%Ok</td>\n",
       "      <td>A_VISTA</td>\n",
       "      <td>ANUIDADE</td>\n",
       "      <td>!5fKYxP|C|Sy3zC&gt;!tscEuo1~+UG&gt;F`]csi{cmtx8cb fW...</td>\n",
       "      <td>CREDITO_ROTATIVO</td>\n",
       "      <td>G{C&gt;}GpRm`5pUzwRvMkAp}Lg}HU;f53{Y&gt;X(NAtlzs^D?o...</td>\n",
       "      <td>12.0</td>\n",
       "      <td>12.0</td>\n",
       "      <td>1000.0400</td>\n",
       "      <td>1000.0400</td>\n",
       "      <td>2016-01-29T12:29:03.374Z</td>\n",
       "      <td>2021-05-21</td>\n",
       "      <td>5137.0</td>\n",
       "    </tr>\n",
       "  </tbody>\n",
       "</table>\n",
       "</div>"
      ],
      "text/plain": [
       "                     transactionId  identificationNumber transactionName  \\\n",
       "0                              NaN                   NaN             NaN   \n",
       "1  TXpRMU9UQTROMWhZV2xSU1FUazJSMDl                4453.0            PGTO   \n",
       "\n",
       "                                  billId creditDebitType transactionType  \\\n",
       "0                                    NaN             NaN             NaN   \n",
       "1  MTU0OTU1NjI2NTk4OTRmc2ZhZDRmc2Q1NmZkM          DEBITO        CASHBACK   \n",
       "\n",
       "                transactionalAdditionalInfo paymentType   feeType  \\\n",
       "0                                       NaN         NaN       NaN   \n",
       "1  qlTN<8h;`DWZ,*=<Stq(eslZ!{$5FX|\\JOzb@%Ok     A_VISTA  ANUIDADE   \n",
       "\n",
       "                               feeTypeAdditionalInfo  otherCreditsType  \\\n",
       "0                                                NaN               NaN   \n",
       "1  !5fKYxP|C|Sy3zC>!tscEuo1~+UG>F`]csi{cmtx8cb fW...  CREDITO_ROTATIVO   \n",
       "\n",
       "                          otherCreditsAdditionalInfo  chargeIdentificator  \\\n",
       "0                                                NaN                  NaN   \n",
       "1  G{C>}GpRm`5pUzwRvMkAp}Lg}HU;f53{Y>X(NAtlzs^D?o...                 12.0   \n",
       "\n",
       "   chargeNumber brazilianAmount     amount       transactionDateTime  \\\n",
       "0           NaN          amount     amount                       NaN   \n",
       "1          12.0       1000.0400  1000.0400  2016-01-29T12:29:03.374Z   \n",
       "\n",
       "  billPostDate  payeeMCC  \n",
       "0          NaN       NaN  \n",
       "1   2021-05-21    5137.0  "
      ]
     },
     "execution_count": 160,
     "metadata": {},
     "output_type": "execute_result"
    }
   ],
   "source": [
    "for files in file_names[0]:\n",
    "    df = pd.read_csv(f'{MAIN_DIR}{API[0]}/{files}.csv',encoding='latin1')\n",
    "    custom_headers = df.iloc[:2]\n",
    "    try:\n",
    "        df = pd.read_csv(f'{MAIN_DIR}{API[0]}/{files}.csv',skiprows=1,encoding='utf-8')\n",
    "    except Exception as e:\n",
    "        df = pd.read_csv(f'{MAIN_DIR}{API[0]}/{files}.csv',skiprows=1,encoding='latin1')\n",
    "    df.drop(columns=[col for col in df.columns if \"Unnamed\" in col],inplace=True)\n",
    "    df.drop(columns=[col for col in df.columns if col in columns_to_drop],inplace=True)\n",
    "    break\n",
    "df"
   ]
  },
  {
   "cell_type": "markdown",
   "metadata": {},
   "source": [
    "### 1.1 Lista de DataFrames"
   ]
  },
  {
   "cell_type": "code",
   "execution_count": 176,
   "metadata": {},
   "outputs": [
    {
     "name": "stdout",
     "output_type": "stream",
     "text": [
      "transaçoes_current\n",
      "transaçoes_fatura\n",
      "transaçoes\n",
      "creditcard_fatura\n",
      "creditcard_limite\n",
      "creditcard_account_id\n",
      "account_balance\n",
      "account_transactions_current\n",
      "account_limit\n",
      "account_transactions\n",
      "pj_id\n",
      "pj_evaluation\n",
      "pj_financial_relation\n",
      "fixed_balance\n",
      "fund_transactions\n",
      "fixed_credit_id\n",
      "variable_income_transactions\n",
      "fixed_transactions\n",
      "fixed_credit_transactions\n",
      "broker_notes\n",
      "fund_balance\n",
      "credit_fixed_balance\n",
      "variable_income_balance\n",
      "treasure_title_transactions\n",
      "treasure_titles_balance\n",
      "treasure_title_id\n",
      "fixed_id\n",
      "pagamentos_direito_creditorio\n",
      "contratos_emprestimos\n",
      "pagamentos_emprestimos\n",
      "adiantamento_parcelas\n",
      "parcelas_emprestimos\n",
      "direitos_creditorios_id\n",
      "parcelas_financiamento\n",
      "pagamentos_financiamentos\n",
      "parecelas_direitos_creditorios\n",
      "adiantamento_pagamentos\n",
      "adiantamentos_id\n",
      "contratos_financiamentos\n"
     ]
    }
   ],
   "source": [
    "dfs_list = df_dicts(API,file_names)  # Listar todos os datasets relacionados a crédito."
   ]
  },
  {
   "cell_type": "code",
   "execution_count": 179,
   "metadata": {},
   "outputs": [
    {
     "data": {
      "text/html": [
       "<div>\n",
       "<style scoped>\n",
       "    .dataframe tbody tr th:only-of-type {\n",
       "        vertical-align: middle;\n",
       "    }\n",
       "\n",
       "    .dataframe tbody tr th {\n",
       "        vertical-align: top;\n",
       "    }\n",
       "\n",
       "    .dataframe thead th {\n",
       "        text-align: right;\n",
       "    }\n",
       "</style>\n",
       "<table border=\"1\" class=\"dataframe\">\n",
       "  <thead>\n",
       "    <tr style=\"text-align: right;\">\n",
       "      <th></th>\n",
       "      <th>billId</th>\n",
       "      <th>dueDate</th>\n",
       "      <th>billTotalAmount</th>\n",
       "      <th>billMinimumAmount</th>\n",
       "      <th>isInstalment</th>\n",
       "      <th>financeCharges</th>\n",
       "      <th>payments</th>\n",
       "      <th>self</th>\n",
       "      <th>first</th>\n",
       "      <th>prev</th>\n",
       "      <th>next</th>\n",
       "      <th>last</th>\n",
       "      <th>totalRecords</th>\n",
       "      <th>totalPages</th>\n",
       "      <th>requestDateTime</th>\n",
       "    </tr>\n",
       "  </thead>\n",
       "  <tbody>\n",
       "    <tr>\n",
       "      <th>0</th>\n",
       "      <td>NaN</td>\n",
       "      <td>NaN</td>\n",
       "      <td>amount</td>\n",
       "      <td>amount</td>\n",
       "      <td>NaN</td>\n",
       "      <td>type</td>\n",
       "      <td>valueType</td>\n",
       "      <td>NaN</td>\n",
       "      <td>NaN</td>\n",
       "      <td>NaN</td>\n",
       "      <td>NaN</td>\n",
       "      <td>NaN</td>\n",
       "      <td>NaN</td>\n",
       "      <td>NaN</td>\n",
       "      <td>NaN</td>\n",
       "    </tr>\n",
       "    <tr>\n",
       "      <th>1</th>\n",
       "      <td>3459087XXZTR</td>\n",
       "      <td>2021-05-21</td>\n",
       "      <td>1000.0400</td>\n",
       "      <td>1000.0400</td>\n",
       "      <td>False</td>\n",
       "      <td>JUROS_REMUNERATORIOS_ATRASO_PAGAMENTO_FATURA</td>\n",
       "      <td>VALOR_PAGAMENTO_FATURA_PARCELADO</td>\n",
       "      <td>https://api.banco.com.br/open-banking/api/v2/r...</td>\n",
       "      <td>https://api.banco.com.br/open-banking/api/v2/r...</td>\n",
       "      <td>https://api.banco.com.br/open-banking/api/v2/r...</td>\n",
       "      <td>https://api.banco.com.br/open-banking/api/v2/r...</td>\n",
       "      <td>https://api.banco.com.br/open-banking/api/v2/r...</td>\n",
       "      <td>1.0</td>\n",
       "      <td>1.0</td>\n",
       "      <td>2021-05-21T08:30:00Z</td>\n",
       "    </tr>\n",
       "  </tbody>\n",
       "</table>\n",
       "</div>"
      ],
      "text/plain": [
       "         billId     dueDate billTotalAmount billMinimumAmount isInstalment  \\\n",
       "0           NaN         NaN          amount            amount          NaN   \n",
       "1  3459087XXZTR  2021-05-21       1000.0400         1000.0400        False   \n",
       "\n",
       "                                 financeCharges  \\\n",
       "0                                          type   \n",
       "1  JUROS_REMUNERATORIOS_ATRASO_PAGAMENTO_FATURA   \n",
       "\n",
       "                           payments  \\\n",
       "0                         valueType   \n",
       "1  VALOR_PAGAMENTO_FATURA_PARCELADO   \n",
       "\n",
       "                                                self  \\\n",
       "0                                                NaN   \n",
       "1  https://api.banco.com.br/open-banking/api/v2/r...   \n",
       "\n",
       "                                               first  \\\n",
       "0                                                NaN   \n",
       "1  https://api.banco.com.br/open-banking/api/v2/r...   \n",
       "\n",
       "                                                prev  \\\n",
       "0                                                NaN   \n",
       "1  https://api.banco.com.br/open-banking/api/v2/r...   \n",
       "\n",
       "                                                next  \\\n",
       "0                                                NaN   \n",
       "1  https://api.banco.com.br/open-banking/api/v2/r...   \n",
       "\n",
       "                                                last  totalRecords  \\\n",
       "0                                                NaN           NaN   \n",
       "1  https://api.banco.com.br/open-banking/api/v2/r...           1.0   \n",
       "\n",
       "   totalPages       requestDateTime  \n",
       "0         NaN                   NaN  \n",
       "1         1.0  2021-05-21T08:30:00Z  "
      ]
     },
     "execution_count": 179,
     "metadata": {},
     "output_type": "execute_result"
    }
   ],
   "source": [
    "dfs_list[0]['creditcard_fatura']"
   ]
  },
  {
   "cell_type": "markdown",
   "metadata": {},
   "source": [
    "### 1.2 Data Cleaning"
   ]
  },
  {
   "cell_type": "markdown",
   "metadata": {},
   "source": [
    "### 1.2 Cleaned Data"
   ]
  },
  {
   "cell_type": "markdown",
   "metadata": {},
   "source": [
    "| creditCardAccountId   | brandName     |    companyCnpj | name                 | productType   | productAdditionalInfo                              | creditCardNetwork   | networkAdditionalInfo   |\n",
    "|:----------------------|:--------------|---------------:|:---------------------|:--------------|:---------------------------------------------------|:--------------------|:------------------------|\n",
    "| XXZTR3459087          | Organização A | 21128159000166 | Cartão Universitário | OUTROS        | ?45q)>zts3:0rK*,j`^]*5=3L ezjyd[dokF{Jp?0`2LbA+<.= | VISA                | AURA CARD               |\n"
   ]
  },
  {
   "cell_type": "markdown",
   "metadata": {},
   "source": [
    "### 2 Identificação Dos Cartões"
   ]
  },
  {
   "cell_type": "code",
   "execution_count": 175,
   "metadata": {},
   "outputs": [],
   "source": [
    "import requests\n",
    "from bs4 import BeautifulSoup as bs"
   ]
  },
  {
   "cell_type": "code",
   "execution_count": 189,
   "metadata": {},
   "outputs": [],
   "source": [
    "\n",
    "url = f'https://openbanking-brasil.github.io/areadesenvolvedor/versions/v1.0.0-rc6.3/#introducao'\n",
    "response = requests.get(url)\n",
    "\n",
    "if response.status_code == 200:\n",
    "    soup = bs(response.content,'html.parser')\n",
    "    tags = soup.find_all('pre',class_='highlight json tab-json')\n",
    "    # if tags:\n",
    "    #     json_schema = json.loads(tags.string)\n",
    "\n",
    "    #     with open('schema.json', 'w') as json_file:\n",
    "    #         json.dump(json_schema, json_file, indent=4)"
   ]
  },
  {
   "cell_type": "code",
   "execution_count": 190,
   "metadata": {},
   "outputs": [
    {
     "data": {
      "text/plain": [
       "<pre class=\"highlight json tab-json\"><code><span class=\"p\">{</span><span class=\"w\">\n",
       "  </span><span class=\"nl\">\"data\"</span><span class=\"p\">:</span><span class=\"w\"> </span><span class=\"p\">{</span><span class=\"w\">\n",
       "    </span><span class=\"s2\">\"...\"</span><span class=\"w\">\n",
       "  </span><span class=\"p\">}</span><span class=\"w\">\n",
       "</span><span class=\"p\">}</span><span class=\"w\">\n",
       "</span></code></pre>"
      ]
     },
     "execution_count": 190,
     "metadata": {},
     "output_type": "execute_result"
    }
   ],
   "source": [
    "tags[0]"
   ]
  },
  {
   "cell_type": "code",
   "execution_count": 186,
   "metadata": {},
   "outputs": [],
   "source": [
    "tags"
   ]
  }
 ],
 "metadata": {
  "kernelspec": {
   "display_name": "Python 3",
   "language": "python",
   "name": "python3"
  },
  "language_info": {
   "codemirror_mode": {
    "name": "ipython",
    "version": 3
   },
   "file_extension": ".py",
   "mimetype": "text/x-python",
   "name": "python",
   "nbconvert_exporter": "python",
   "pygments_lexer": "ipython3",
   "version": "3.10.6"
  }
 },
 "nbformat": 4,
 "nbformat_minor": 2
}
